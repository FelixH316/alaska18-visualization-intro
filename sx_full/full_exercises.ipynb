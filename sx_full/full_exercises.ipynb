{
 "cells": [
  {
   "cell_type": "markdown",
   "id": "7fd2812b",
   "metadata": {},
   "source": [
    "### *2 Figuras - 04 Facilitando la interpretación de datos*"
   ]
  },
  {
   "cell_type": "code",
   "execution_count": null,
   "id": "b1fe4660",
   "metadata": {},
   "outputs": [],
   "source": [
    "import pandas as pd\n",
    "\n",
    "datos_ventas = {\n",
    "    'mes': [1, 2, 3, 4, 5, 6, 7, 8, 9, 10, 11, 12],\n",
    "    'ventas': [10000, 11000, 12000, 13000, 14000, 15000, 16000, 17000, 18000, 19000, 20000, 21000]\n",
    "}\n",
    "\n",
    "df = pd.DataFrame(datos_ventas)"
   ]
  },
  {
   "cell_type": "markdown",
   "id": "0ade9641",
   "metadata": {},
   "source": [
    "### *2 Figuras - 10 Desafío: visualizando datos de ventas de tiendas diferentes*"
   ]
  },
  {
   "cell_type": "code",
   "execution_count": null,
   "id": "67bd494b",
   "metadata": {},
   "outputs": [],
   "source": [
    "tiendas = ['A', 'B', 'C', 'D']\n",
    "ventas_2022 = {'Ene': [100, 80, 150, 50],\n",
    "    'Feb': [120, 90, 170, 60],\n",
    "    'Mar': [150, 100, 200, 80],\n",
    "    'Abr': [180, 110, 230, 90],\n",
    "    'May': [220, 190, 350, 200],\n",
    "    'Jun': [230, 150, 280, 120],\n",
    "    'Jul': [250, 170, 300, 140],\n",
    "    'Ago': [260, 180, 310, 150],\n",
    "    'Sep': [240, 160, 290, 130],\n",
    "    'Oct': [220, 140, 270, 110],\n",
    "    'Nov': [400, 220, 350, 190],\n",
    "    'Dec': [300, 350, 400, 250]}"
   ]
  },
  {
   "cell_type": "markdown",
   "id": "ab2a5c9e",
   "metadata": {},
   "source": [
    "#### *Instructor*"
   ]
  },
  {
   "cell_type": "code",
   "execution_count": null,
   "id": "7add6aa6",
   "metadata": {},
   "outputs": [],
   "source": [
    "df = pd.DataFrame(ventas_2022, index=tiendas)"
   ]
  },
  {
   "cell_type": "code",
   "execution_count": null,
   "id": "b53db182",
   "metadata": {},
   "outputs": [],
   "source": [
    "# Crear la figura y los subgráficos\n",
    "\n",
    "fig, axs = plt.subplots(2, 2, figsize=(14, 8))\n",
    "\n",
    "# Ajustar los espaciados entre los subgráficos\n",
    "\n",
    "plt.subplots_adjust(wspace=0.3, hspace=0.4)\n",
    "\n",
    "# Agregar un título general para los subgráficos\n",
    "\n",
    "fig.suptitle('Ventas en el período de enero a diciembre de 2022 en las tiendas A, B, C y D')\n",
    "\n",
    "# Agregar los gráficos en cada uno de los subgráficos\n",
    "\n",
    "axs[0, 0].plot(df.loc['A'])\n",
    "axs[0, 0].set_title('Ventas en la tienda A')\n",
    "axs[0, 1].plot(df.loc['B'])\n",
    "axs[0, 1].set_title('Ventas en la tienda B')\n",
    "axs[1, 0].plot(df.loc['C'])\n",
    "axs[1, 0].set_title('Ventas en la tienda C')\n",
    "axs[1, 1].plot(df.loc['D'])\n",
    "axs[1, 1].set_title('Ventas en la tienda D')\n",
    "\n",
    "# Agregar etiquetas para los ejes X y Y\n",
    "\n",
    "for ax in axs.flat:\n",
    "    ax.set_xlabel('Mes')\n",
    "    ax.set_ylabel('Número de ventas')\n",
    "\n",
    "# Mostrar la figura\n",
    "\n",
    "plt.show()"
   ]
  },
  {
   "cell_type": "markdown",
   "id": "6e798957",
   "metadata": {},
   "source": [
    "### *3 Custom - 03 Alterando los estilos*\n",
    "Personalizamos las visualizaciones en el video anterior, cambiando el tamaño de las fuentes, modificando la posición del título y también añadiendo elementos como marcadores y rejillas a las figuras. Pero además, según la *documentación* de la biblioteca Matplotlib, podemos aplicar diferentes estilos para permitirnos adaptar las visualizaciones de acuerdo con nuestras necesidades. Para saber qué estilos están disponibles, podemos imprimir plt.style.available, donde style es un submódulo de la biblioteca Matplotlib utilizado para definir estilos de visualización:\n",
    "\n",
    "*documentación*\n",
    "https://matplotlib.org/stable/gallery/style_sheets/index.html"
   ]
  },
  {
   "cell_type": "code",
   "execution_count": null,
   "id": "3c7f4bb9",
   "metadata": {},
   "outputs": [],
   "source": [
    "print(plt.style.available)"
   ]
  },
  {
   "cell_type": "markdown",
   "id": "205c01ca",
   "metadata": {},
   "source": [
    "El resultado es una lista que contiene todos los estilos disponibles:"
   ]
  },
  {
   "cell_type": "code",
   "execution_count": null,
   "id": "ff65d10f",
   "metadata": {},
   "outputs": [],
   "source": [
    "['Solarize_Light2', '_classic_test_patch', '_mpl-gallery', '_mpl-gallery-nogrid', 'bmh', 'classic', 'dark_background', 'fast', 'fivethirtyeight', 'ggplot', 'grayscale', 'seaborn-v0_8', 'seaborn-v0_8-bright', 'seaborn-v0_8-colorblind', 'seaborn-v0_8-dark', 'seaborn-v0_8-dark-palette', 'seaborn-v0_8-darkgrid', 'seaborn-v0_8-deep', 'seaborn-v0_8-muted', 'seaborn-v0_8-notebook', 'seaborn-v0_8-paper', 'seaborn-v0_8-pastel', 'seaborn-v0_8-poster', 'seaborn-v0_8-talk', 'seaborn-v0_8-ticks', 'seaborn-v0_8-white', 'seaborn-v0_8-whitegrid', 'tableau-colorblind10']"
   ]
  },
  {
   "cell_type": "markdown",
   "id": "7193b9e8",
   "metadata": {},
   "source": [
    "¡Podemos explorar uno de estos estilos para mejorar aún más nuestras visualizaciones!\n",
    "\n",
    "Antes de aplicar un estilo, es importante saber que cada vez que la biblioteca Matplotlib es importada en un notebook, define una configuración de tiempo de ejecución que incluye los estilos predeterminados para cada elemento de trazado creado.\n",
    "\n",
    "Por lo tanto, para evitar que el estilo se aplique a todos los gráficos trazados en el mismo notebook, podemos utilizar un código que crea una copia de las configuraciones predeterminadas de trazado de la biblioteca Matplotlib y las asigna a la variable IPython_default. Esto puede ser útil para almacenar y reutilizar las configuraciones predeterminadas de trazado o para restaurarlas después de haber sido modificadas:"
   ]
  },
  {
   "cell_type": "code",
   "execution_count": null,
   "id": "215724a4",
   "metadata": {},
   "outputs": [],
   "source": [
    "IPython_default = plt.rcParams.copy()"
   ]
  },
  {
   "cell_type": "markdown",
   "id": "bb0a4ee9",
   "metadata": {},
   "source": [
    "plt.style.use('fivethirtyeight')"
   ]
  },
  {
   "cell_type": "code",
   "execution_count": null,
   "id": "f411c429",
   "metadata": {},
   "outputs": [],
   "source": [
    "fig, ax = plt.subplots(figsize=(8, 4))\n",
    "ax.plot(datos_col['Año'], datos_col['Inmigrantes'])\n",
    "ax.set_title('Inmigración de colombianos hacia Canadá\\n1980 a 2013', fontsize=20, loc='left')\n",
    "ax.set_ylabel('Número de Inmigrantes', fontsize=14)\n",
    "ax.set_xlabel('Año', fontsize=14)\n",
    "ax.yaxis.set_tick_params(labelsize=12)\n",
    "ax.xaxis.set_tick_params(labelsize=12)\n",
    "ax.xaxis.set_major_locator(plt.MultipleLocator(5))\n",
    "plt.show()"
   ]
  },
  {
   "cell_type": "code",
   "execution_count": null,
   "id": "53bc66da",
   "metadata": {},
   "outputs": [],
   "source": [
    "plt.rcParams.update(IPython_default);"
   ]
  },
  {
   "cell_type": "code",
   "execution_count": null,
   "id": "a83e8107",
   "metadata": {},
   "outputs": [],
   "source": [
    "with plt.style.context('fivethirtyeight'):\n",
    "  fig, ax = plt.subplots(figsize=(8, 4))\n",
    "  ax.plot(datos_col['Año'], datos_col['Inmigrantes'])\n",
    "  ax.set_title('Inmigración de colombianos hacia Canadá\\n1980 a 2013', fontsize=20, loc='left')\n",
    "  ax.set_ylabel('Número de Inmigrantes', fontsize=14)\n",
    "  ax.set_xlabel('Año', fontsize=14)\n",
    "  ax.yaxis.set_tick_params(labelsize=12)\n",
    "  ax.xaxis.set_tick_params(labelsize=12)\n",
    "  ax.xaxis.set_major_locator(plt.MultipleLocator(5))\n",
    "  plt.show()"
   ]
  },
  {
   "cell_type": "markdown",
   "id": "8d1c6b2e",
   "metadata": {},
   "source": [
    "### *3 Custom - 09 Desafío: Desafío: personalizando los subplots con los datos de ventas de tiendas diferentes*\n",
    "¡Otra etapa de desafío está comenzando! Aprovecha la oportunidad propuesta y sumérgete en las posibilidades. En la clase anterior, tuviste el desafío de crear una figura con subgráficos que presentan la variación en el número de ventas en cuatro tiendas diferentes a lo largo de un año. ¡Ahora es el momento de llevar esa figura a un nuevo nivel! ¡Es hora de personalizarla! En esta segunda parte del desafío, debes explorar las opciones de personalización de los subgráficos para hacer que la figura sea más clara y atractiva para la gerencia de la empresa.\n",
    "\n",
    "Algunas ideas de personalización que puedes explorar son:\n",
    "\n",
    "Cambiar la posición de los títulos de los subgráficos a la izquierda.\n",
    "Aumentar el tamaño de la fuente del título general de la figura para resaltarlo.\n",
    "Aumentar el tamaño de los títulos y etiquetas de los ejes de los subgráficos.\n",
    "Hacer que las líneas sean más gruesas.\n",
    "Cambiar el color de las líneas de cada tienda para diferenciarlas aún más.\n",
    "¡Siéntete libre de probar más personalizaciones!\n",
    "\n",
    "Y aquí va otro consejo: puedes reducir el tamaño del código utilizando el comando for i, ax in enumerate(axs.flat):, que permite un bucle que itera sobre todos los subgráficos de la figura. Dentro de este bucle, puedes pasar las funciones plot, set_title, set_xlabel, set_ylabel, y así sucesivamente...\n",
    "\n",
    "Recuerda que los datos son los siguientes:"
   ]
  },
  {
   "cell_type": "code",
   "execution_count": null,
   "id": "6f1408b2",
   "metadata": {},
   "outputs": [],
   "source": [
    "tiendas = ['A', 'B', 'C', 'D']\n",
    "ventas_2022 = {'Ene': [100, 80, 150, 50],\n",
    "    'Feb': [120, 90, 170, 60],\n",
    "    'Mar': [150, 100, 200, 80],\n",
    "    'Abr': [180, 110, 230, 90],\n",
    "    'May': [220, 190, 350, 200],\n",
    "    'Jun': [230, 150, 280, 120],\n",
    "    'Jul': [250, 170, 300, 140],\n",
    "    'Ago': [260, 180, 310, 150],\n",
    "    'Sep': [240, 160, 290, 130],\n",
    "    'Oct': [220, 140, 270, 110],\n",
    "    'Nov': [400, 220, 350, 190],\n",
    "    'Dec': [300, 350, 400, 250]}"
   ]
  },
  {
   "cell_type": "markdown",
   "id": "86a6a9a2",
   "metadata": {},
   "source": [
    "#### *Instructor*\n",
    "A continuación, tenemos un ejemplo de cómo se puede resolver este desafío. Hay varias formas de abordar este problema, y puedes usar la creatividad para encontrar soluciones diferentes e innovadoras.\n",
    "\n",
    "Este código crea una figura con 4 subgráficos (2 filas y 2 columnas), donde cada subgráfico representa las ventas de una tienda en cada mes del año. El tamaño de la figura se define con el parámetro figsize de la función subplots(). Luego, el espacio entre los subgráficos se ajusta con la función subplots_adjust().\n",
    "\n",
    "El título general de la figura se agrega con la función suptitle(), donde se define el texto y el tamaño de la fuente con el parámetro fontsize.\n",
    "\n",
    "Se crea una lista de colores con los colores que se utilizarán para trazar las líneas en cada subgráfico. El comando enumerate(axs.flat) permite que el bucle siguiente itere sobre todos los subgráficos de la figura. Dentro del bucle, se utiliza el comando plot() para trazar las ventas de la tienda correspondiente al subgráfico actual. El color de la línea se define por el índice del subgráfico en la lista de colores. El título del subgráfico se define con el nombre de la tienda y el parámetro loc='left' alinea el título a la izquierda. Las etiquetas de los ejes X y Y se definen con las funciones set_xlabel() y set_ylabel(), y las fuentes se definen por el parámetro fontsize. Las marcas de los ejes se definen con la función tick_params(). Por último, se agrega una cuadrícula a los subgráficos con la función grid()."
   ]
  },
  {
   "cell_type": "code",
   "execution_count": null,
   "id": "8a3984c7",
   "metadata": {},
   "outputs": [],
   "source": [
    "# Crear la figura y los subgráficos\n",
    "fig, axs = plt.subplots(2, 2, figsize=(14, 8))\n",
    "\n",
    "# Ajustar los espaciados entre los subgráficos\n",
    "plt.subplots_adjust(wspace=0.3, hspace=0.4)\n",
    "\n",
    "# Agregar un título general a los subgráficos\n",
    "fig.suptitle('Ventas en el periodo de enero a diciembre de 2022 en las tiendas A, B, C y D', fontsize=20)\n",
    "\n",
    "# Lista de colores\n",
    "colores = ['darkviolet', 'green', 'darkblue', 'coral']\n",
    "\n",
    "# Bucle para trazar y personalizar los subgráficos\n",
    "for i, ax in enumerate(axs.flat):\n",
    "    ax.plot(df.loc[df.index[i]], color=colores[i], lw=3)\n",
    "    ax.set_title(f'Ventas en la tienda {df.index[i]}', loc='left', fontsize=16)\n",
    "    ax.set_xlabel('Mes', fontsize=14)\n",
    "    ax.set_ylabel('Número de ventas', fontsize=14)\n",
    "    ax.tick_params(labelsize=12)\n",
    "    ax.grid(color='lightgrey')"
   ]
  },
  {
   "cell_type": "markdown",
   "id": "35431e9c",
   "metadata": {},
   "source": [
    "### *4 Seaborn - 04 Graficando datos de una e-comerce con Seaborn*"
   ]
  },
  {
   "cell_type": "code",
   "execution_count": null,
   "id": "c466d3e0",
   "metadata": {},
   "outputs": [],
   "source": [
    "import pandas as pd\n",
    "\n",
    "meses = ['ene', 'feb', 'mar', 'abr', 'may', 'jun', 'jul', 'ago', 'sep', 'oct', 'nov', 'dic']\n",
    "ventas = [1200, 4100, 3800, 1000, 6000, 7000, 3800, 3700, 700, 2000, 5600, 8000]\n",
    "\n",
    "df = pd.DataFrame({'mes': meses, 'ventas': ventas})"
   ]
  },
  {
   "cell_type": "markdown",
   "id": "0d78f1ab",
   "metadata": {},
   "source": [
    "### *4 Seaborn - 06 Los colores permiten que tus datos sean más fáciles de entender*\n",
    "\n",
    "Coblis - Color Blindness Simulator\n",
    "    https://www.color-blindness.com/coblis-color-blindness-simulator/"
   ]
  },
  {
   "cell_type": "markdown",
   "id": "ae84870b",
   "metadata": {},
   "source": [
    "### *4 Seaborn - 08 Desafío: creando un gráfico de líneas con Seaborn*\n",
    "¡Felicidades por llegar hasta aquí! Volviendo a los datos utilizados en el proyecto que estamos desarrollando en este curso, ahora es el momento de utilizar todos los conocimientos adquiridos sobre las bibliotecas Matplotlib y Seaborn.\n",
    "\n",
    "En esta etapa, tu desafío es crear una figura que muestre las tendencias de inmigración de los 4 mayores países de América Latina: Brasil, Argentina, Perú y Colombia. A través de esta creación, puedes explorar diversas posibilidades y mostrar de manera atractiva tu proceso de desarrollo. Y no nos olvidemos de las indicaciones. Esta figura debe tener una línea para cada país, título, etiquetas en los ejes, colores apropiados, un tema de la biblioteca Seaborn y una leyenda. Por lo tanto, piensa en cuestiones de accesibilidad, como el tamaño de las fuentes y el grosor de las líneas. Es importante elegir colores adecuados que no causen fatiga visual o dificulten la lectura de la información. Además, el tamaño de las fuentes debe ser lo suficientemente legible para que las personas puedan interpretar los datos fácilmente.\n",
    "\n",
    "Consejo: para elegir la paleta de colores, también puedes consultar la documentación de la biblioteca Matplotlib. Seaborn utiliza los colormaps de Matplotlib por defecto, además de ofrecer sus propias paletas de colores. Para aplicar una paleta de colores a todas las líneas de la figura, puedes usar la función sns.set_palette() y pasarle el nombre de la paleta elegida.\n",
    "\n",
    "Estamos emocionados por ver el resultado de tu trabajo y las historias que contarás a través de este gráfico. ¡Manos a la obra y diviértete!"
   ]
  },
  {
   "cell_type": "markdown",
   "id": "4915691e",
   "metadata": {},
   "source": [
    "#### *Instructor*\n",
    "En la primera línea, se utiliza la función set_theme() para definir un tema para el gráfico, lo que afecta al estilo del fondo, la cuadrícula, etc.\n",
    "\n",
    "En la segunda línea, se emplea la función set_palette() para establecer una paleta de colores para el gráfico. En este caso, se está utilizando el colormap 'Dark2', que tiene una variedad de colores oscuros.\n",
    "\n",
    "En la tercera línea, se usa la función subplots() para crear una figura con un área de trazado (eje) de tamaño especificado. Luego, se utiliza la función lineplot() de Seaborn para trazar las líneas para Brasil, Argentina, Perú y Colombia. Cada línea está etiquetada con el parámetro label que lleva el nombre del país y tiene una anchura de 3 píxeles, con lw=3.\n",
    "\n",
    "Las líneas siguientes definen el título, las etiquetas de los ejes y la frecuencia de las marcas en el eje X.\n",
    "\n",
    "Finalmente, se emplea la función legend() para añadir una leyenda al gráfico, situada en la esquina superior derecha y ligeramente fuera del trazado. En el código presentado, bbox_to_anchor=(1.18, 1.02) indica que la leyenda debe estar anclada en una posición ligeramente a la derecha y arriba de la esquina superior derecha del gráfico. El valor 1.18 para X indica que la leyenda debe colocarse un 18% a la derecha del extremo derecho del gráfico, mientras que el valor 1.02 para Y indica que la leyenda debe colocarse un 2% por encima del extremo superior del gráfico. Esto ayuda a evitar que la leyenda se superponga a otras partes del gráfico.\n",
    "\n",
    "El título de la leyenda se establece como 'Países'. Por último, se llama a la función plt.show() para mostrar el gráfico."
   ]
  },
  {
   "cell_type": "code",
   "execution_count": null,
   "id": "c6cf3e6e",
   "metadata": {},
   "outputs": [],
   "source": [
    "sns.set_theme()\n",
    "sns.set_palette('Dark2')\n",
    "\n",
    "fig, ax = plt.subplots(figsize=(10, 5))\n",
    "ax = sns.lineplot(df.loc['Brasil', anos], label='Brasil', lw=3)\n",
    "ax = sns.lineplot(df.loc['Argentina', anos], label='Argentina', lw=3)\n",
    "ax = sns.lineplot(df.loc['Peru', anos], label='Perú', lw=3)\n",
    "ax = sns.lineplot(df.loc['Colombia', anos], label='Colombia', lw=3)\n",
    "\n",
    "ax.set_title('Inmigración de los principales países de América del Sur\\nal Canadá de 1980 a 2013', loc='left', fontsize=20)\n",
    "ax.set_xlabel('Año', fontsize=14)\n",
    "ax.set_ylabel('Número de Inmigrantes', fontsize=14)\n",
    "ax.xaxis.set_major_locator(plt.MultipleLocator(5))\n",
    "ax.legend(title='Países', loc='upper right', bbox_to_anchor=(1.18, 1.02))\n",
    "\n",
    "plt.show()"
   ]
  }
 ],
 "metadata": {
  "language_info": {
   "name": "python"
  }
 },
 "nbformat": 4,
 "nbformat_minor": 5
}

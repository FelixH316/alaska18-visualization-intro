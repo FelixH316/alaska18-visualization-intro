{
 "cells": [
  {
   "cell_type": "markdown",
   "id": "7fd2812b",
   "metadata": {},
   "source": [
    "### *2 Figuras - 04 Facilitando la interpretación de datos*"
   ]
  },
  {
   "cell_type": "code",
   "execution_count": null,
   "id": "b1fe4660",
   "metadata": {},
   "outputs": [],
   "source": [
    "import pandas as pd\n",
    "\n",
    "datos_ventas = {\n",
    "    'mes': [1, 2, 3, 4, 5, 6, 7, 8, 9, 10, 11, 12],\n",
    "    'ventas': [10000, 11000, 12000, 13000, 14000, 15000, 16000, 17000, 18000, 19000, 20000, 21000]\n",
    "}\n",
    "\n",
    "df = pd.DataFrame(datos_ventas)"
   ]
  },
  {
   "cell_type": "markdown",
   "id": "0ade9641",
   "metadata": {},
   "source": [
    "### *2 Figuras - 10 Desafío: visualizando datos de ventas de tiendas diferentes*"
   ]
  },
  {
   "cell_type": "code",
   "execution_count": null,
   "id": "67bd494b",
   "metadata": {},
   "outputs": [],
   "source": [
    "tiendas = ['A', 'B', 'C', 'D']\n",
    "ventas_2022 = {'Ene': [100, 80, 150, 50],\n",
    "    'Feb': [120, 90, 170, 60],\n",
    "    'Mar': [150, 100, 200, 80],\n",
    "    'Abr': [180, 110, 230, 90],\n",
    "    'May': [220, 190, 350, 200],\n",
    "    'Jun': [230, 150, 280, 120],\n",
    "    'Jul': [250, 170, 300, 140],\n",
    "    'Ago': [260, 180, 310, 150],\n",
    "    'Sep': [240, 160, 290, 130],\n",
    "    'Oct': [220, 140, 270, 110],\n",
    "    'Nov': [400, 220, 350, 190],\n",
    "    'Dec': [300, 350, 400, 250]}"
   ]
  },
  {
   "cell_type": "markdown",
   "id": "ab2a5c9e",
   "metadata": {},
   "source": [
    "#### *Instructor*"
   ]
  },
  {
   "cell_type": "code",
   "execution_count": null,
   "id": "7add6aa6",
   "metadata": {},
   "outputs": [],
   "source": [
    "df = pd.DataFrame(ventas_2022, index=tiendas)"
   ]
  },
  {
   "cell_type": "code",
   "execution_count": null,
   "id": "b53db182",
   "metadata": {},
   "outputs": [],
   "source": [
    "# Crear la figura y los subgráficos\n",
    "\n",
    "fig, axs = plt.subplots(2, 2, figsize=(14, 8))\n",
    "\n",
    "# Ajustar los espaciados entre los subgráficos\n",
    "\n",
    "plt.subplots_adjust(wspace=0.3, hspace=0.4)\n",
    "\n",
    "# Agregar un título general para los subgráficos\n",
    "\n",
    "fig.suptitle('Ventas en el período de enero a diciembre de 2022 en las tiendas A, B, C y D')\n",
    "\n",
    "# Agregar los gráficos en cada uno de los subgráficos\n",
    "\n",
    "axs[0, 0].plot(df.loc['A'])\n",
    "axs[0, 0].set_title('Ventas en la tienda A')\n",
    "axs[0, 1].plot(df.loc['B'])\n",
    "axs[0, 1].set_title('Ventas en la tienda B')\n",
    "axs[1, 0].plot(df.loc['C'])\n",
    "axs[1, 0].set_title('Ventas en la tienda C')\n",
    "axs[1, 1].plot(df.loc['D'])\n",
    "axs[1, 1].set_title('Ventas en la tienda D')\n",
    "\n",
    "# Agregar etiquetas para los ejes X y Y\n",
    "\n",
    "for ax in axs.flat:\n",
    "    ax.set_xlabel('Mes')\n",
    "    ax.set_ylabel('Número de ventas')\n",
    "\n",
    "# Mostrar la figura\n",
    "\n",
    "plt.show()"
   ]
  }
 ],
 "metadata": {
  "language_info": {
   "name": "python"
  }
 },
 "nbformat": 4,
 "nbformat_minor": 5
}
